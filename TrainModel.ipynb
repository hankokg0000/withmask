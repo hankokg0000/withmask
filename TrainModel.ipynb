{
 "cells": [
  {
   "cell_type": "code",
   "execution_count": 17,
   "metadata": {},
   "outputs": [],
   "source": [
    "import os"
   ]
  },
  {
   "cell_type": "code",
   "execution_count": 18,
   "metadata": {},
   "outputs": [],
   "source": [
    "import cv2\n",
    "import numpy as np"
   ]
  },
  {
   "cell_type": "code",
   "execution_count": 19,
   "metadata": {},
   "outputs": [],
   "source": [
    "def read_data(csv_path):\n",
    "    with open(csv_path,\"r\") as file:\n",
    "        lines = file.read().splitlines()\n",
    "        return [line.split(\",\") for line in lines]\n"
   ]
  },
  {
   "cell_type": "code",
   "execution_count": 20,
   "metadata": {},
   "outputs": [],
   "source": [
    "train_data = read_data(\"train.csv\")\n",
    "test_data = read_data(\"test.csv\")"
   ]
  },
  {
   "cell_type": "code",
   "execution_count": 21,
   "metadata": {},
   "outputs": [],
   "source": [
    "def read_and_resize(path, size):\n",
    "    bgr = cv2.imread(path, cv2 .IMREAD_COLOR)\n",
    "    rgb = cv2.cvtColor(bgr, cv2.COLOR_BGR2RGB)\n",
    "    return cv2.resize(rgb, size)"
   ]
  },
  {
   "cell_type": "code",
   "execution_count": 22,
   "metadata": {},
   "outputs": [],
   "source": [
    "def load_data(data):\n",
    "    image_list = []\n",
    "    label_list = []\n",
    "    for path, name in data:\n",
    "        image = read_and_resize(path, (32, 32))\n",
    "        name = int(name)\n",
    "        image_list.append(image)\n",
    "        label_list.append(name)\n",
    "    return np.stack(image_list,axis=0), np.array(label_list)"
   ]
  },
  {
   "cell_type": "code",
   "execution_count": 23,
   "metadata": {},
   "outputs": [],
   "source": [
    "x_train, y_train = load_data(train_data)\n",
    "x_test, y_test = load_data(test_data)"
   ]
  },
  {
   "cell_type": "code",
   "execution_count": 24,
   "metadata": {},
   "outputs": [],
   "source": [
    "def label2onehot(label):\n",
    "    return np.eye(2)[label]"
   ]
  },
  {
   "cell_type": "code",
   "execution_count": 25,
   "metadata": {},
   "outputs": [],
   "source": [
    "y_train_onehot = label2onehot(y_train)\n",
    "y_test_onehot = label2onehot(y_test)"
   ]
  },
  {
   "cell_type": "code",
   "execution_count": 26,
   "metadata": {},
   "outputs": [],
   "source": [
    "x_train = x_train /255\n",
    "x_test = x_test /255"
   ]
  },
  {
   "cell_type": "code",
   "execution_count": 27,
   "metadata": {},
   "outputs": [
    {
     "name": "stdout",
     "output_type": "stream",
     "text": [
      "(3160, 32, 32, 3) (3160,)\n",
      "(789, 32, 32, 3) (789,)\n"
     ]
    }
   ],
   "source": [
    "print(x_train.shape,y_train.shape)\n",
    "print(x_test.shape,y_test.shape)"
   ]
  },
  {
   "cell_type": "markdown",
   "metadata": {},
   "source": [
    "# Model"
   ]
  },
  {
   "cell_type": "code",
   "execution_count": 28,
   "metadata": {},
   "outputs": [],
   "source": [
    "from tensorflow import keras"
   ]
  },
  {
   "cell_type": "code",
   "execution_count": 29,
   "metadata": {},
   "outputs": [
    {
     "name": "stdout",
     "output_type": "stream",
     "text": [
      "Model: \"sequential_1\"\n",
      "_________________________________________________________________\n",
      "Layer (type)                 Output Shape              Param #   \n",
      "=================================================================\n",
      "conv2d_4 (Conv2D)            (None, 32, 32, 32)        896       \n",
      "_________________________________________________________________\n",
      "activation_7 (Activation)    (None, 32, 32, 32)        0         \n",
      "_________________________________________________________________\n",
      "conv2d_5 (Conv2D)            (None, 32, 32, 32)        9248      \n",
      "_________________________________________________________________\n",
      "activation_8 (Activation)    (None, 32, 32, 32)        0         \n",
      "_________________________________________________________________\n",
      "max_pooling2d_2 (MaxPooling2 (None, 16, 16, 32)        0         \n",
      "_________________________________________________________________\n",
      "conv2d_6 (Conv2D)            (None, 16, 16, 32)        9248      \n",
      "_________________________________________________________________\n",
      "activation_9 (Activation)    (None, 16, 16, 32)        0         \n",
      "_________________________________________________________________\n",
      "conv2d_7 (Conv2D)            (None, 16, 16, 32)        9248      \n",
      "_________________________________________________________________\n",
      "activation_10 (Activation)   (None, 16, 16, 32)        0         \n",
      "_________________________________________________________________\n",
      "max_pooling2d_3 (MaxPooling2 (None, 8, 8, 32)          0         \n",
      "_________________________________________________________________\n",
      "flatten_1 (Flatten)          (None, 2048)              0         \n",
      "_________________________________________________________________\n",
      "dense_3 (Dense)              (None, 256)               524544    \n",
      "_________________________________________________________________\n",
      "activation_11 (Activation)   (None, 256)               0         \n",
      "_________________________________________________________________\n",
      "dense_4 (Dense)              (None, 64)                16448     \n",
      "_________________________________________________________________\n",
      "activation_12 (Activation)   (None, 64)                0         \n",
      "_________________________________________________________________\n",
      "dense_5 (Dense)              (None, 2)                 130       \n",
      "_________________________________________________________________\n",
      "activation_13 (Activation)   (None, 2)                 0         \n",
      "=================================================================\n",
      "Total params: 569,762\n",
      "Trainable params: 569,762\n",
      "Non-trainable params: 0\n",
      "_________________________________________________________________\n"
     ]
    }
   ],
   "source": [
    "model = keras.models.Sequential()\n",
    "\n",
    "model.add(keras.layers.Conv2D(32, (3, 3), padding=\"same\", input_shape=(32, 32, 3)))\n",
    "model.add(keras.layers.Activation(keras.activations.relu))\n",
    "\n",
    "model.add(keras.layers.Conv2D(32, (3, 3), padding=\"same\", input_shape=(32, 32, 3)))\n",
    "model.add(keras.layers.Activation(keras.activations.relu))\n",
    "\n",
    "model.add(keras.layers.MaxPool2D(2))\n",
    "\n",
    "model.add(keras.layers.Conv2D(32, (3, 3), padding=\"same\", input_shape=(32, 32, 3)))\n",
    "model.add(keras.layers.Activation(keras.activations.relu))\n",
    "\n",
    "model.add(keras.layers.Conv2D(32, (3, 3), padding=\"same\", input_shape=(32, 32, 3)))\n",
    "model.add(keras.layers.Activation(keras.activations.relu))\n",
    "\n",
    "model.add(keras.layers.MaxPool2D(2))\n",
    "model.add(keras.layers.Flatten())\n",
    "model.add(keras.layers.Dense(256))\n",
    "model.add(keras.layers.Activation(keras.activations.linear))\n",
    "model.add(keras.layers.Dense(64))\n",
    "model.add(keras.layers.Activation(keras.activations.linear))\n",
    "model.add(keras.layers.Dense(2))\n",
    "model.add(keras.layers.Activation(keras.activations.softmax))\n",
    "\n",
    "loss_func = keras.losses.categorical_crossentropy\n",
    "metrics = [\n",
    "    keras.metrics.categorical_accuracy\n",
    "]\n",
    "optimizer = keras.optimizers.Adam(lr=0.0001)\n",
    "\n",
    "model.compile(loss=loss_func, optimizer=optimizer, metrics=metrics)\n",
    "\n",
    "model.summary()"
   ]
  },
  {
   "cell_type": "markdown",
   "metadata": {},
   "source": [
    "## Train"
   ]
  },
  {
   "cell_type": "code",
   "execution_count": 30,
   "metadata": {},
   "outputs": [],
   "source": [
    "callbacks = [\n",
    "    keras.callbacks.ReduceLROnPlateau(),\n",
    "    keras.callbacks.ModelCheckpoint(\"best_model.h5\",monitor='val_loss',\n",
    "                                   mode = 'min',\n",
    "                                   save_best_only = True)\n",
    "]\n"
   ]
  },
  {
   "cell_type": "code",
   "execution_count": 31,
   "metadata": {},
   "outputs": [
    {
     "name": "stdout",
     "output_type": "stream",
     "text": [
      "Epoch 1/15\n",
      "99/99 [==============================] - 11s 107ms/step - loss: 0.3397 - categorical_accuracy: 0.8487 - val_loss: 0.1486 - val_categorical_accuracy: 0.9430\n",
      "Epoch 2/15\n",
      "99/99 [==============================] - 9s 92ms/step - loss: 0.1241 - categorical_accuracy: 0.9566 - val_loss: 0.1122 - val_categorical_accuracy: 0.9544\n",
      "Epoch 3/15\n",
      "99/99 [==============================] - 9s 93ms/step - loss: 0.0951 - categorical_accuracy: 0.9690 - val_loss: 0.1032 - val_categorical_accuracy: 0.9556\n",
      "Epoch 4/15\n",
      "99/99 [==============================] - 9s 94ms/step - loss: 0.0844 - categorical_accuracy: 0.9744 - val_loss: 0.1159 - val_categorical_accuracy: 0.9556\n",
      "Epoch 5/15\n",
      "99/99 [==============================] - 10s 97ms/step - loss: 0.0757 - categorical_accuracy: 0.9744 - val_loss: 0.1037 - val_categorical_accuracy: 0.9544\n",
      "Epoch 6/15\n",
      "99/99 [==============================] - 10s 103ms/step - loss: 0.0767 - categorical_accuracy: 0.9725 - val_loss: 0.1016 - val_categorical_accuracy: 0.9632\n",
      "Epoch 7/15\n",
      "99/99 [==============================] - 10s 106ms/step - loss: 0.0691 - categorical_accuracy: 0.9778 - val_loss: 0.1048 - val_categorical_accuracy: 0.9632\n",
      "Epoch 8/15\n",
      "99/99 [==============================] - 10s 102ms/step - loss: 0.0724 - categorical_accuracy: 0.9750 - val_loss: 0.0935 - val_categorical_accuracy: 0.9645\n",
      "Epoch 9/15\n",
      "99/99 [==============================] - 10s 97ms/step - loss: 0.0633 - categorical_accuracy: 0.9785 - val_loss: 0.1078 - val_categorical_accuracy: 0.9607\n",
      "Epoch 10/15\n",
      "99/99 [==============================] - 10s 102ms/step - loss: 0.0569 - categorical_accuracy: 0.9813 - val_loss: 0.1164 - val_categorical_accuracy: 0.9607\n",
      "Epoch 11/15\n",
      "99/99 [==============================] - 10s 100ms/step - loss: 0.0546 - categorical_accuracy: 0.9788 - val_loss: 0.0925 - val_categorical_accuracy: 0.9658\n",
      "Epoch 12/15\n",
      "99/99 [==============================] - 10s 98ms/step - loss: 0.0529 - categorical_accuracy: 0.9804 - val_loss: 0.0886 - val_categorical_accuracy: 0.9747\n",
      "Epoch 13/15\n",
      "99/99 [==============================] - 10s 98ms/step - loss: 0.0478 - categorical_accuracy: 0.9861 - val_loss: 0.0852 - val_categorical_accuracy: 0.9670\n",
      "Epoch 14/15\n",
      "99/99 [==============================] - 10s 98ms/step - loss: 0.0486 - categorical_accuracy: 0.9851 - val_loss: 0.0837 - val_categorical_accuracy: 0.9670\n",
      "Epoch 15/15\n",
      "99/99 [==============================] - 10s 100ms/step - loss: 0.0483 - categorical_accuracy: 0.9867 - val_loss: 0.0804 - val_categorical_accuracy: 0.9696\n"
     ]
    }
   ],
   "source": [
    "his = model.fit(x_train, y_train_onehot,\n",
    "                validation_data=(x_test, y_test_onehot),\n",
    "                epochs = 15,\n",
    "                batch_size=32,\n",
    "                verbose=1,\n",
    "                callbacks=callbacks\n",
    "        )"
   ]
  },
  {
   "cell_type": "code",
   "execution_count": 32,
   "metadata": {},
   "outputs": [
    {
     "name": "stdout",
     "output_type": "stream",
     "text": [
      "25/25 [==============================] - 1s 20ms/step - loss: 0.0804 - categorical_accuracy: 0.9696\n"
     ]
    }
   ],
   "source": [
    "val_loss, val_acc = model.evaluate(x_test,y_test_onehot)"
   ]
  },
  {
   "cell_type": "code",
   "execution_count": null,
   "metadata": {},
   "outputs": [],
   "source": []
  }
 ],
 "metadata": {
  "kernelspec": {
   "display_name": "Python 3",
   "language": "python",
   "name": "python3"
  },
  "language_info": {
   "codemirror_mode": {
    "name": "ipython",
    "version": 3
   },
   "file_extension": ".py",
   "mimetype": "text/x-python",
   "name": "python",
   "nbconvert_exporter": "python",
   "pygments_lexer": "ipython3",
   "version": "3.8.3"
  }
 },
 "nbformat": 4,
 "nbformat_minor": 4
}
