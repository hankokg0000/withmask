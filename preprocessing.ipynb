{
 "cells": [
  {
   "cell_type": "code",
   "execution_count": 12,
   "metadata": {},
   "outputs": [],
   "source": [
    "import os"
   ]
  },
  {
   "cell_type": "code",
   "execution_count": 13,
   "metadata": {},
   "outputs": [],
   "source": [
    "with_mask_dir = \"with_mask\"\n",
    "without_mask_dir = \"without_mask\""
   ]
  },
  {
   "cell_type": "code",
   "execution_count": 14,
   "metadata": {},
   "outputs": [],
   "source": [
    "def get_image_path_list(_dir):\n",
    "    return [\n",
    "         os.path.join(_dir, fname)\n",
    "        for fname in os.listdir(_dir)\n",
    "        if fname.endswith(\".png\")\n",
    "    ]"
   ]
  },
  {
   "cell_type": "code",
   "execution_count": 15,
   "metadata": {},
   "outputs": [
    {
     "name": "stdout",
     "output_type": "stream",
     "text": [
      "with_mask 3232\n",
      "['with_mask\\\\with_mask_0001.png', 'with_mask\\\\with_mask_0002.png']\n",
      "without_mask 717\n",
      "['without_mask\\\\without_mask_0001.png', 'without_mask\\\\without_mask_0002.png']\n"
     ]
    }
   ],
   "source": [
    "with_mask_path_list = \\\n",
    "    get_image_path_list(with_mask_dir)\n",
    "\n",
    "without_mask_path_list = \\\n",
    "    get_image_path_list(without_mask_dir)\n",
    "\n",
    "print(\"with_mask\", len(with_mask_path_list))\n",
    "print(with_mask_path_list[:2])\n",
    "print(\"without_mask\", len(without_mask_path_list))\n",
    "print(without_mask_path_list[:2])"
   ]
  },
  {
   "cell_type": "markdown",
   "metadata": {},
   "source": [
    "# Spilt"
   ]
  },
  {
   "cell_type": "code",
   "execution_count": 16,
   "metadata": {},
   "outputs": [],
   "source": [
    "from random import shuffle"
   ]
  },
  {
   "cell_type": "code",
   "execution_count": 17,
   "metadata": {},
   "outputs": [],
   "source": [
    "def split_data(_list, ratio):\n",
    "    __list = _list.copy()\n",
    "    L = len(__list)\n",
    "    shuffle(__list)\n",
    "    index = int(L * ratio)\n",
    "    train_set = __list[index:]\n",
    "    test_set = __list[:index]\n",
    "    return train_set, test_set"
   ]
  },
  {
   "cell_type": "code",
   "execution_count": 18,
   "metadata": {},
   "outputs": [
    {
     "name": "stdout",
     "output_type": "stream",
     "text": [
      "Train:\n",
      "\twith\twithout\n",
      "\t2586\t574\n",
      "Test:\n",
      "\twith\twithout\n",
      "\t646\t143\n"
     ]
    }
   ],
   "source": [
    "ratio = 0.2\n",
    "\n",
    "with_mask_path_train_list, with_mask_path_test_list = \\\n",
    "    split_data(with_mask_path_list, ratio)\n",
    "\n",
    "without_mask_path_train_list, without_mask_path_test_list = \\\n",
    "    split_data(without_mask_path_list, ratio)\n",
    "\n",
    "print(\"Train:\")\n",
    "print(\"\\twith\\twithout\")\n",
    "print(f\"\\t{len(with_mask_path_train_list)}\\t{len(without_mask_path_train_list)}\")\n",
    "      \n",
    "print(\"Test:\")\n",
    "print(\"\\twith\\twithout\")\n",
    "print(f\"\\t{len(with_mask_path_test_list)}\\t{len(without_mask_path_test_list)}\")"
   ]
  },
  {
   "cell_type": "markdown",
   "metadata": {},
   "source": [
    "# Preprocessing"
   ]
  },
  {
   "cell_type": "code",
   "execution_count": 19,
   "metadata": {},
   "outputs": [],
   "source": [
    "#label all image\n",
    "#resize all image to 32*32"
   ]
  },
  {
   "cell_type": "code",
   "execution_count": 20,
   "metadata": {},
   "outputs": [],
   "source": [
    "label_with_train_list = [1] * len(with_mask_path_train_list)\n",
    "label_with_test_list = [1] * len(with_mask_path_test_list)\n",
    "\n",
    "label_without_train_list = [0] * len(with_mask_path_train_list)\n",
    "label_without_test_list = [0] * len(with_mask_path_test_list)"
   ]
  },
  {
   "cell_type": "code",
   "execution_count": 21,
   "metadata": {},
   "outputs": [],
   "source": [
    "def zip_image_label(path_list, label_list):\n",
    "    return [\n",
    "        (path, label)\n",
    "        for path, label in zip(path_list, label_list)\n",
    "    ]"
   ]
  },
  {
   "cell_type": "code",
   "execution_count": 22,
   "metadata": {},
   "outputs": [],
   "source": [
    "with_mask_train = zip_image_label(\n",
    "    with_mask_path_train_list,\n",
    "    label_with_train_list,\n",
    ")\n",
    "\n",
    "with_mask_test = zip_image_label(\n",
    "    with_mask_path_test_list,\n",
    "    label_with_test_list\n",
    ")\n",
    "\n",
    "without_mask_train = zip_image_label(\n",
    "    without_mask_path_train_list,\n",
    "    label_without_train_list,\n",
    ")\n",
    "\n",
    "without_mask_test = zip_image_label(\n",
    "    without_mask_path_test_list,\n",
    "    label_without_test_list\n",
    ")\n",
    "\n",
    "train_path_list = with_mask_train + without_mask_train\n",
    "test_path_list = with_mask_test + without_mask_test\n",
    "\n",
    "with open(\"train.csv\", \"w\") as f:\n",
    "    for path, label in train_path_list:\n",
    "        f.write(f\"{path},{label}\\n\")\n",
    "        \n",
    "with open(\"test.csv\", \"w\") as f:\n",
    "    for path, label in test_path_list:\n",
    "        f.write(f\"{path},{label}\\n\")"
   ]
  },
  {
   "cell_type": "code",
   "execution_count": null,
   "metadata": {},
   "outputs": [],
   "source": []
  }
 ],
 "metadata": {
  "kernelspec": {
   "display_name": "Python 3",
   "language": "python",
   "name": "python3"
  },
  "language_info": {
   "codemirror_mode": {
    "name": "ipython",
    "version": 3
   },
   "file_extension": ".py",
   "mimetype": "text/x-python",
   "name": "python",
   "nbconvert_exporter": "python",
   "pygments_lexer": "ipython3",
   "version": "3.8.3"
  }
 },
 "nbformat": 4,
 "nbformat_minor": 4
}
